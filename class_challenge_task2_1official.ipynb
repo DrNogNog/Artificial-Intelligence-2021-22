{
  "nbformat": 4,
  "nbformat_minor": 0,
  "metadata": {
    "kernelspec": {
      "display_name": "Python 3",
      "language": "python",
      "name": "python3"
    },
    "language_info": {
      "codemirror_mode": {
        "name": "ipython",
        "version": 3
      },
      "file_extension": ".py",
      "mimetype": "text/x-python",
      "name": "python",
      "nbconvert_exporter": "python",
      "pygments_lexer": "ipython3",
      "version": "3.8.6"
    },
    "latex_envs": {
      "LaTeX_envs_menu_present": true,
      "autoclose": false,
      "autocomplete": true,
      "bibliofile": "biblio.bib",
      "cite_by": "apalike",
      "current_citInitial": 1,
      "eqLabelWithNumbers": true,
      "eqNumInitial": 1,
      "hotkeys": {
        "equation": "Ctrl-E",
        "itemize": "Ctrl-I"
      },
      "labels_anchors": false,
      "latex_user_defs": false,
      "report_style_numbering": false,
      "user_envs_cfg": false
    },
    "toc": {
      "base_numbering": 1,
      "nav_menu": {},
      "number_sections": true,
      "sideBar": true,
      "skip_h1_title": false,
      "title_cell": "Table of Contents",
      "title_sidebar": "Contents",
      "toc_cell": false,
      "toc_position": {},
      "toc_section_display": true,
      "toc_window_display": false
    },
    "varInspector": {
      "cols": {
        "lenName": 16,
        "lenType": 16,
        "lenVar": 40
      },
      "kernels_config": {
        "python": {
          "delete_cmd_postfix": "",
          "delete_cmd_prefix": "del ",
          "library": "var_list.py",
          "varRefreshCmd": "print(var_dic_list())"
        },
        "r": {
          "delete_cmd_postfix": ") ",
          "delete_cmd_prefix": "rm(",
          "library": "var_list.r",
          "varRefreshCmd": "cat(var_dic_list()) "
        }
      },
      "types_to_exclude": [
        "module",
        "function",
        "builtin_function_or_method",
        "instance",
        "_Feature"
      ],
      "window_display": false
    },
    "colab": {
      "name": "task2-1official.ipynb",
      "provenance": [],
      "collapsed_sections": []
    },
    "accelerator": "GPU"
  },
  "cells": [
    {
      "cell_type": "markdown",
      "metadata": {
        "nbpresent": {
          "id": "1d234e3f-af8b-4757-83f3-241b04b7a511"
        },
        "id": "HOJ2tUu8nkMN"
      },
      "source": [
        "# Class Challenge: Image Classification of COVID-19 X-rays\n",
        "# Task 2 [Total points: 30]"
      ]
    },
    {
      "cell_type": "markdown",
      "metadata": {
        "nbpresent": {
          "id": "b07b9992-b592-4871-9f9a-3b0ae5fa8b5f"
        },
        "id": "za-GK9GqnkMQ"
      },
      "source": [
        "## Setup\n",
        "\n",
        "* This assignment involves the following packages: 'matplotlib', 'numpy', and 'sklearn'. \n",
        "\n",
        "* If you are using conda, use the following commands to install the above packages:<br>\n",
        "```shell\n",
        "conda install matplotlib\n",
        "conda install numpy\n",
        "conda install -c anaconda scikit-learn\n",
        "```\n",
        "\n",
        "* If you are using pip, use use the following commands to install the above packages: <br> \n",
        "```shell\n",
        "pip install matplotlib\n",
        "pip install numpy\n",
        "pip install sklearn\n",
        "```"
      ]
    },
    {
      "cell_type": "markdown",
      "metadata": {
        "nbpresent": {
          "id": "5516f610-f00c-43c3-bf19-4cf7ab9c089f"
        },
        "id": "S9lyy4YknkMR"
      },
      "source": [
        "## Data\n",
        "\n",
        "Please download the data using the following link: [COVID-19](https://drive.google.com/file/d/1Y88tgqpQ1Pjko_7rntcPowOJs_QNOrJ-/view). \n",
        "\n",
        "* After downloading 'Covid_Data_GradientCrescent.zip', unzip the file and you should see the following data structure:\n",
        "\n",
        "\n",
        "|--all<br>\n",
        "|--------train<br>\n",
        "|--------test<br>\n",
        "|--two<br>\n",
        "|--------train<br>\n",
        "|--------test<br>\n",
        "\n",
        "\n",
        "* Put the 'all' folder, the 'two' folder and this python notebook in the **same directory** so that the following code can correctly locate the data.  \n",
        "\n"
      ]
    },
    {
      "cell_type": "markdown",
      "metadata": {
        "nbpresent": {
          "id": "66140980-2aa4-457f-b1df-74c10c234cc2"
        },
        "id": "5fVLiH26nkMS"
      },
      "source": [
        "## [20 points] Multi-class Classification"
      ]
    },
    {
      "cell_type": "code",
      "metadata": {
        "nbpresent": {
          "id": "5e05f980-3d14-4367-b3d1-664249145b13"
        },
        "scrolled": true,
        "id": "CojKSCC9nkMT",
        "colab": {
          "base_uri": "https://localhost:8080/",
          "height": 36
        },
        "outputId": "83278d3a-be06-410e-ef21-9a1fa226dcce"
      },
      "source": [
        "import os\n",
        "\n",
        "import tensorflow as tf\n",
        "import numpy as np\n",
        "import matplotlib.pyplot as plt\n",
        "from tensorflow.keras.preprocessing.image import ImageDataGenerator\n",
        "\n",
        "os.environ['OMP_NUM_THREADS'] = '1'\n",
        "#os.environ['CUDA_VISIBLE_DEVICES'] = '-1'\n",
        "tf.__version__\n",
        "tf.test.gpu_device_name()"
      ],
      "execution_count": null,
      "outputs": [
        {
          "output_type": "execute_result",
          "data": {
            "application/vnd.google.colaboratory.intrinsic+json": {
              "type": "string"
            },
            "text/plain": [
              "'/device:GPU:0'"
            ]
          },
          "metadata": {},
          "execution_count": 1
        }
      ]
    },
    {
      "cell_type": "code",
      "metadata": {
        "colab": {
          "base_uri": "https://localhost:8080/"
        },
        "id": "WYBpANLqpD5I",
        "outputId": "225b9a91-6fa7-4e5c-8363-e33d97827949"
      },
      "source": [
        "from google.colab import drive\n",
        "drive.mount('/content/drive')"
      ],
      "execution_count": null,
      "outputs": [
        {
          "output_type": "stream",
          "name": "stdout",
          "text": [
            "Drive already mounted at /content/drive; to attempt to forcibly remount, call drive.mount(\"/content/drive\", force_remount=True).\n"
          ]
        }
      ]
    },
    {
      "cell_type": "markdown",
      "metadata": {
        "nbpresent": {
          "id": "66140980-2aa4-457f-b1df-74c10c234cc2"
        },
        "id": "PpLMwJTcnkMW"
      },
      "source": [
        "#### Load Image Data"
      ]
    },
    {
      "cell_type": "code",
      "metadata": {
        "nbpresent": {
          "id": "58317664-8da3-4283-b3e5-35721687e7ab"
        },
        "id": "gJx48720nkMX"
      },
      "source": [
        "DATA_LIST = os.listdir('drive/My Drive/Class Challenge/CovidGD/all/train')\n",
        "DATASET_PATH  = 'drive/My Drive/Class Challenge/CovidGD/all/train'\n",
        "TEST_DIR =  'drive/My Drive/Class Challenge/CovidGD/all/test'\n",
        "IMAGE_SIZE    = (224, 224)\n",
        "NUM_CLASSES   = len(DATA_LIST)\n",
        "BATCH_SIZE    = 10  # try reducing batch size or freeze more layers if your GPU runs out of memory\n",
        "NUM_EPOCHS    = 40\n",
        "LEARNING_RATE = 0.0005 # start off with high rate first 0.001 and experiment with reducing it gradually "
      ],
      "execution_count": null,
      "outputs": []
    },
    {
      "cell_type": "markdown",
      "metadata": {
        "nbpresent": {
          "id": "66140980-2aa4-457f-b1df-74c10c234cc2"
        },
        "id": "H_BO7QINnkMZ"
      },
      "source": [
        "#### Generate Training and Validation Batches"
      ]
    },
    {
      "cell_type": "code",
      "metadata": {
        "nbpresent": {
          "id": "71760e29-2b08-4259-93f1-ebe68cd74a6d"
        },
        "id": "HMqM-wEinkMa",
        "colab": {
          "base_uri": "https://localhost:8080/"
        },
        "outputId": "538a4226-e729-4cb3-9583-310331bbcf79"
      },
      "source": [
        "train_datagen = ImageDataGenerator(rescale=1./255,rotation_range=50,featurewise_center = True,\n",
        "                                   featurewise_std_normalization = True,width_shift_range=0.2,\n",
        "                                   height_shift_range=0.2,shear_range=0.25,zoom_range=0.1,\n",
        "                                   zca_whitening = True,channel_shift_range = 20,\n",
        "                                   horizontal_flip = True,vertical_flip = True,\n",
        "                                   validation_split = 0.2,fill_mode='constant')\n",
        "\n",
        "\n",
        "train_batches = train_datagen.flow_from_directory(DATASET_PATH,target_size=IMAGE_SIZE,\n",
        "                                                  shuffle=True,batch_size=BATCH_SIZE,\n",
        "                                                  subset = \"training\",seed=42,\n",
        "                                                  class_mode=\"categorical\")\n",
        "\n",
        "valid_batches = train_datagen.flow_from_directory(DATASET_PATH,target_size=IMAGE_SIZE,\n",
        "                                                  shuffle=True,batch_size=BATCH_SIZE,\n",
        "                                                  subset = \"validation\",\n",
        "                                                  seed=42,class_mode=\"categorical\")"
      ],
      "execution_count": null,
      "outputs": [
        {
          "output_type": "stream",
          "name": "stdout",
          "text": [
            "Found 216 images belonging to 4 classes.\n",
            "Found 54 images belonging to 4 classes.\n"
          ]
        },
        {
          "output_type": "stream",
          "name": "stderr",
          "text": [
            "/usr/local/lib/python3.7/dist-packages/keras_preprocessing/image/image_data_generator.py:342: UserWarning: This ImageDataGenerator specifies `zca_whitening` which overrides setting of`featurewise_std_normalization`.\n",
            "  warnings.warn('This ImageDataGenerator specifies '\n"
          ]
        }
      ]
    },
    {
      "cell_type": "markdown",
      "metadata": {
        "nbpresent": {
          "id": "66140980-2aa4-457f-b1df-74c10c234cc2"
        },
        "id": "_3hYHXl3nkMc"
      },
      "source": [
        "#### [10 points] Build Model\n",
        "Hint: Starting from a pre-trained model typically helps performance on a new task, e.g. starting with weights obtained by training on ImageNet. "
      ]
    },
    {
      "cell_type": "code",
      "metadata": {
        "id": "awazium9nkMd",
        "colab": {
          "base_uri": "https://localhost:8080/"
        },
        "outputId": "7276887f-82ae-4163-e629-8dbc83650eae"
      },
      "source": [
        "from keras.applications.xception import Xception\n",
        "sequential_1 = tf.keras.models.Sequential(Xception(include_top=False, weights=\"imagenet\", input_shape=(224,224, 3),pooling=None,classes=1000,classifier_activation=\"softmax\"))\n",
        "for layer in sequential_1.layers:\n",
        "    layer.trainable = False\n",
        "for i, layer in enumerate(sequential_1.layers):\n",
        "    print(i, layer.name, layer.trainable)\n",
        "sequential_1.summary()"
      ],
      "execution_count": null,
      "outputs": [
        {
          "output_type": "stream",
          "name": "stdout",
          "text": [
            "0 xception False\n",
            "Model: \"sequential\"\n",
            "_________________________________________________________________\n",
            " Layer (type)                Output Shape              Param #   \n",
            "=================================================================\n",
            " xception (Functional)       (None, 7, 7, 2048)        20861480  \n",
            "                                                                 \n",
            "=================================================================\n",
            "Total params: 20,861,480\n",
            "Trainable params: 0\n",
            "Non-trainable params: 20,861,480\n",
            "_________________________________________________________________\n"
          ]
        }
      ]
    },
    {
      "cell_type": "code",
      "metadata": {
        "id": "dHp6_a7GnkMe",
        "colab": {
          "base_uri": "https://localhost:8080/"
        },
        "outputId": "9f0c5bb1-631c-4799-d384-f2a9e4353c5d"
      },
      "source": [
        "sequential_1.add(tf.keras.layers.Flatten())\n",
        "#sequential_1.add(tf.keras.layers.Dropout(0.25))\n",
        "sequential_1.add(tf.keras.layers.Dense(256, activation='relu'))\n",
        "sequential_1.add(tf.keras.layers.Dense(4))\n",
        "sequential_1.summary()"
      ],
      "execution_count": null,
      "outputs": [
        {
          "output_type": "stream",
          "name": "stdout",
          "text": [
            "Model: \"sequential\"\n",
            "_________________________________________________________________\n",
            " Layer (type)                Output Shape              Param #   \n",
            "=================================================================\n",
            " xception (Functional)       (None, 7, 7, 2048)        20861480  \n",
            "                                                                 \n",
            " flatten (Flatten)           (None, 100352)            0         \n",
            "                                                                 \n",
            " dense (Dense)               (None, 256)               25690368  \n",
            "                                                                 \n",
            " dense_1 (Dense)             (None, 4)                 1028      \n",
            "                                                                 \n",
            "=================================================================\n",
            "Total params: 46,552,876\n",
            "Trainable params: 25,691,396\n",
            "Non-trainable params: 20,861,480\n",
            "_________________________________________________________________\n"
          ]
        }
      ]
    },
    {
      "cell_type": "markdown",
      "metadata": {
        "nbpresent": {
          "id": "66140980-2aa4-457f-b1df-74c10c234cc2"
        },
        "id": "ATPHolkankMf"
      },
      "source": [
        "#### [5 points] Train Model"
      ]
    },
    {
      "cell_type": "code",
      "metadata": {
        "scrolled": true,
        "id": "npzPbHf9nkMf",
        "colab": {
          "base_uri": "https://localhost:8080/"
        },
        "outputId": "394356c9-a759-4b2d-915d-1f437f71781d"
      },
      "source": [
        "#FIT MODEL\n",
        "print(len(train_batches))\n",
        "print(len(valid_batches))\n",
        "\n",
        "STEP_SIZE_TRAIN=train_batches.n//train_batches.batch_size\n",
        "STEP_SIZE_VALID=valid_batches.n//valid_batches.batch_size\n",
        "\n",
        "sequential_1.compile(optimizer='adam', loss=tf.keras.losses.CategoricalCrossentropy(from_logits=True),\n",
        "                metrics=['accuracy'])\n",
        "model = sequential_1.fit(train_batches, validation_data=valid_batches, epochs=NUM_EPOCHS, steps_per_epoch=STEP_SIZE_TRAIN, \n",
        "                 validation_steps = STEP_SIZE_VALID)"
      ],
      "execution_count": null,
      "outputs": [
        {
          "output_type": "stream",
          "name": "stdout",
          "text": [
            "22\n",
            "6\n"
          ]
        },
        {
          "output_type": "stream",
          "name": "stderr",
          "text": [
            "/usr/local/lib/python3.7/dist-packages/keras_preprocessing/image/image_data_generator.py:720: UserWarning: This ImageDataGenerator specifies `featurewise_center`, but it hasn't been fit on any training data. Fit it first by calling `.fit(numpy_data)`.\n",
            "  warnings.warn('This ImageDataGenerator specifies '\n",
            "/usr/local/lib/python3.7/dist-packages/keras_preprocessing/image/image_data_generator.py:739: UserWarning: This ImageDataGenerator specifies `zca_whitening`, but it hasn't been fit on any training data. Fit it first by calling `.fit(numpy_data)`.\n",
            "  warnings.warn('This ImageDataGenerator specifies '\n"
          ]
        },
        {
          "output_type": "stream",
          "name": "stdout",
          "text": [
            "Epoch 1/40\n",
            "21/21 [==============================] - 16s 515ms/step - loss: 16.9970 - accuracy: 0.3883 - val_loss: 5.8719 - val_accuracy: 0.3800\n",
            "Epoch 2/40\n",
            "21/21 [==============================] - 9s 442ms/step - loss: 2.9759 - accuracy: 0.5922 - val_loss: 2.6181 - val_accuracy: 0.6200\n",
            "Epoch 3/40\n",
            "21/21 [==============================] - 9s 438ms/step - loss: 2.3484 - accuracy: 0.6311 - val_loss: 1.2111 - val_accuracy: 0.6800\n",
            "Epoch 4/40\n",
            "21/21 [==============================] - 9s 436ms/step - loss: 1.5851 - accuracy: 0.6553 - val_loss: 2.0278 - val_accuracy: 0.6600\n",
            "Epoch 5/40\n",
            "21/21 [==============================] - 9s 426ms/step - loss: 1.7347 - accuracy: 0.6359 - val_loss: 1.2720 - val_accuracy: 0.6800\n",
            "Epoch 6/40\n",
            "21/21 [==============================] - 9s 439ms/step - loss: 1.0499 - accuracy: 0.7136 - val_loss: 0.6720 - val_accuracy: 0.7400\n",
            "Epoch 7/40\n",
            "21/21 [==============================] - 9s 444ms/step - loss: 0.9855 - accuracy: 0.7333 - val_loss: 1.9185 - val_accuracy: 0.6400\n",
            "Epoch 8/40\n",
            "21/21 [==============================] - 9s 430ms/step - loss: 1.2746 - accuracy: 0.6990 - val_loss: 1.6429 - val_accuracy: 0.6600\n",
            "Epoch 9/40\n",
            "21/21 [==============================] - 9s 433ms/step - loss: 1.2172 - accuracy: 0.6748 - val_loss: 1.4405 - val_accuracy: 0.6800\n",
            "Epoch 10/40\n",
            "21/21 [==============================] - 9s 424ms/step - loss: 1.1686 - accuracy: 0.7184 - val_loss: 1.6583 - val_accuracy: 0.6200\n",
            "Epoch 11/40\n",
            "21/21 [==============================] - 9s 435ms/step - loss: 0.8832 - accuracy: 0.7286 - val_loss: 1.2209 - val_accuracy: 0.6000\n",
            "Epoch 12/40\n",
            "21/21 [==============================] - 9s 446ms/step - loss: 0.7706 - accuracy: 0.7816 - val_loss: 1.0950 - val_accuracy: 0.6800\n",
            "Epoch 13/40\n",
            "21/21 [==============================] - 9s 434ms/step - loss: 0.7355 - accuracy: 0.7621 - val_loss: 1.2130 - val_accuracy: 0.6000\n",
            "Epoch 14/40\n",
            "21/21 [==============================] - 9s 430ms/step - loss: 0.7128 - accuracy: 0.7670 - val_loss: 1.0368 - val_accuracy: 0.6400\n",
            "Epoch 15/40\n",
            "21/21 [==============================] - 9s 428ms/step - loss: 0.7119 - accuracy: 0.7718 - val_loss: 1.0327 - val_accuracy: 0.6400\n",
            "Epoch 16/40\n",
            "21/21 [==============================] - 9s 413ms/step - loss: 0.7025 - accuracy: 0.7476 - val_loss: 1.2034 - val_accuracy: 0.5800\n",
            "Epoch 17/40\n",
            "21/21 [==============================] - 9s 431ms/step - loss: 0.5686 - accuracy: 0.7864 - val_loss: 0.7855 - val_accuracy: 0.7400\n",
            "Epoch 18/40\n",
            "21/21 [==============================] - 9s 435ms/step - loss: 0.6211 - accuracy: 0.7718 - val_loss: 0.8639 - val_accuracy: 0.6400\n",
            "Epoch 19/40\n",
            "21/21 [==============================] - 9s 436ms/step - loss: 0.7456 - accuracy: 0.7762 - val_loss: 0.8781 - val_accuracy: 0.6600\n",
            "Epoch 20/40\n",
            "21/21 [==============================] - 9s 421ms/step - loss: 0.7516 - accuracy: 0.7573 - val_loss: 1.0840 - val_accuracy: 0.7000\n",
            "Epoch 21/40\n",
            "21/21 [==============================] - 9s 432ms/step - loss: 0.8320 - accuracy: 0.6845 - val_loss: 1.3791 - val_accuracy: 0.6600\n",
            "Epoch 22/40\n",
            "21/21 [==============================] - 9s 427ms/step - loss: 0.7541 - accuracy: 0.7330 - val_loss: 0.9406 - val_accuracy: 0.6600\n",
            "Epoch 23/40\n",
            "21/21 [==============================] - 9s 421ms/step - loss: 0.5404 - accuracy: 0.7767 - val_loss: 0.6018 - val_accuracy: 0.7000\n",
            "Epoch 24/40\n",
            "21/21 [==============================] - 9s 436ms/step - loss: 0.5238 - accuracy: 0.7816 - val_loss: 0.5926 - val_accuracy: 0.7600\n",
            "Epoch 25/40\n",
            "21/21 [==============================] - 9s 426ms/step - loss: 0.5141 - accuracy: 0.7670 - val_loss: 0.6913 - val_accuracy: 0.6800\n",
            "Epoch 26/40\n",
            "21/21 [==============================] - 9s 431ms/step - loss: 0.4848 - accuracy: 0.8058 - val_loss: 0.6390 - val_accuracy: 0.7400\n",
            "Epoch 27/40\n",
            "21/21 [==============================] - 9s 431ms/step - loss: 0.5674 - accuracy: 0.7718 - val_loss: 0.6641 - val_accuracy: 0.7200\n",
            "Epoch 28/40\n",
            "21/21 [==============================] - 9s 421ms/step - loss: 0.5149 - accuracy: 0.8058 - val_loss: 0.5792 - val_accuracy: 0.7600\n",
            "Epoch 29/40\n",
            "21/21 [==============================] - 9s 430ms/step - loss: 0.4945 - accuracy: 0.7767 - val_loss: 0.8092 - val_accuracy: 0.7000\n",
            "Epoch 30/40\n",
            "21/21 [==============================] - 9s 430ms/step - loss: 0.4797 - accuracy: 0.7816 - val_loss: 0.9515 - val_accuracy: 0.6200\n",
            "Epoch 31/40\n",
            "21/21 [==============================] - 9s 426ms/step - loss: 0.5125 - accuracy: 0.8107 - val_loss: 0.9871 - val_accuracy: 0.6200\n",
            "Epoch 32/40\n",
            "21/21 [==============================] - 9s 431ms/step - loss: 0.5221 - accuracy: 0.7816 - val_loss: 0.7479 - val_accuracy: 0.7000\n",
            "Epoch 33/40\n",
            "21/21 [==============================] - 9s 428ms/step - loss: 0.4466 - accuracy: 0.8301 - val_loss: 1.0443 - val_accuracy: 0.6200\n",
            "Epoch 34/40\n",
            "21/21 [==============================] - 9s 409ms/step - loss: 0.5347 - accuracy: 0.8204 - val_loss: 0.9953 - val_accuracy: 0.6000\n",
            "Epoch 35/40\n",
            "21/21 [==============================] - 9s 426ms/step - loss: 0.4343 - accuracy: 0.8155 - val_loss: 0.7276 - val_accuracy: 0.6400\n",
            "Epoch 36/40\n",
            "21/21 [==============================] - 9s 434ms/step - loss: 0.3676 - accuracy: 0.8447 - val_loss: 0.7758 - val_accuracy: 0.7200\n",
            "Epoch 37/40\n",
            "21/21 [==============================] - 9s 430ms/step - loss: 0.4059 - accuracy: 0.8495 - val_loss: 0.8258 - val_accuracy: 0.6200\n",
            "Epoch 38/40\n",
            "21/21 [==============================] - 9s 435ms/step - loss: 0.5091 - accuracy: 0.8143 - val_loss: 0.9805 - val_accuracy: 0.6600\n",
            "Epoch 39/40\n",
            "21/21 [==============================] - 9s 430ms/step - loss: 0.4512 - accuracy: 0.8252 - val_loss: 0.8232 - val_accuracy: 0.6800\n",
            "Epoch 40/40\n",
            "21/21 [==============================] - 9s 427ms/step - loss: 0.4382 - accuracy: 0.8107 - val_loss: 0.8611 - val_accuracy: 0.6400\n"
          ]
        }
      ]
    },
    {
      "cell_type": "markdown",
      "metadata": {
        "nbpresent": {
          "id": "66140980-2aa4-457f-b1df-74c10c234cc2"
        },
        "id": "PlOnkvj-nkMg"
      },
      "source": [
        "#### [5 points] Plot Accuracy and Loss During Training"
      ]
    },
    {
      "cell_type": "code",
      "metadata": {
        "id": "GP9PJ1XynkMg",
        "colab": {
          "base_uri": "https://localhost:8080/",
          "height": 701
        },
        "outputId": "b095477b-764e-4bea-ba3f-b79d11ddb1d4"
      },
      "source": [
        "import matplotlib.pyplot as plt\n",
        "\n",
        "plt.figure(0, figsize =(7,5))\n",
        "\n",
        "#plt.subplot(1, 2, 1) \n",
        "plt.plot(model.history['accuracy'], label='Train_acc')\n",
        "plt.grid()\n",
        "plt.plot(model.history['val_accuracy'], label = 'Test_acc')\n",
        "plt.title(\"Accuracy Over 100 Epochs\")\n",
        "plt.xlabel('Epoch')\n",
        "plt.ylabel('Accuracy')\n",
        "plt.legend(loc='lower right')\n",
        "\n",
        "plt.figure(1, figsize =(7,5))\n",
        "\n",
        "#plt.subplot(1, 2, 2) \n",
        "plt.plot(model.history['loss'], label='Train_loss')\n",
        "plt.grid()\n",
        "plt.plot(model.history['val_loss'], label = 'Test_loss')\n",
        "plt.title(\"Accuracy Over 100 Epochs\")\n",
        "plt.xlabel('Epoch')\n",
        "plt.ylabel('Accuracy')\n",
        "plt.legend(loc='upper right')"
      ],
      "execution_count": null,
      "outputs": [
        {
          "output_type": "execute_result",
          "data": {
            "text/plain": [
              "<matplotlib.legend.Legend at 0x7efe23fa2510>"
            ]
          },
          "metadata": {},
          "execution_count": 8
        },
        {
          "output_type": "display_data",
          "data": {
            "image/png": "[encoded data removed]",
            "text/plain": [
              "<Figure size 504x360 with 1 Axes>"
            ]
          },
          "metadata": {
            "needs_background": "light"
          }
        },
        {
          "output_type": "display_data",
          "data": {
            "image/png": "[encoded data removed]",
            "text/plain": [
              "<Figure size 504x360 with 1 Axes>"
            ]
          },
          "metadata": {
            "needs_background": "light"
          }
        }
      ]
    },
    {
      "cell_type": "markdown",
      "metadata": {
        "nbpresent": {
          "id": "66140980-2aa4-457f-b1df-74c10c234cc2"
        },
        "id": "OqFbrv5CnkMh"
      },
      "source": [
        "#### Testing Model"
      ]
    },
    {
      "cell_type": "code",
      "metadata": {
        "id": "0Yf18yrwnkMh",
        "colab": {
          "base_uri": "https://localhost:8080/"
        },
        "outputId": "eac3481c-49f8-4c2c-aa3c-5719fa661d74"
      },
      "source": [
        "test_datagen = ImageDataGenerator(rescale=1. / 255)\n",
        "\n",
        "eval_generator = test_datagen.flow_from_directory(TEST_DIR,target_size=IMAGE_SIZE,\n",
        "                                                  batch_size=1,shuffle=True,seed=42,class_mode=\"categorical\")\n",
        "eval_generator.reset()\n",
        "print(len(eval_generator))\n",
        "x = sequential_1.evaluate_generator(eval_generator,steps = np.ceil(len(eval_generator)),\n",
        "                           use_multiprocessing = False,verbose = 1,workers=1)\n",
        "print('Test loss:' , x[0])\n",
        "print('Test accuracy:',x[1])"
      ],
      "execution_count": null,
      "outputs": [
        {
          "output_type": "stream",
          "name": "stdout",
          "text": [
            "Found 36 images belonging to 4 classes.\n",
            "36\n"
          ]
        },
        {
          "output_type": "stream",
          "name": "stderr",
          "text": [
            "/usr/local/lib/python3.7/dist-packages/ipykernel_launcher.py:8: UserWarning: `Model.evaluate_generator` is deprecated and will be removed in a future version. Please use `Model.evaluate`, which supports generators.\n",
            "  \n"
          ]
        },
        {
          "output_type": "stream",
          "name": "stdout",
          "text": [
            "36/36 [==============================] - 2s 36ms/step - loss: 0.5568 - accuracy: 0.7778\n",
            "Test loss: 0.5568112730979919\n",
            "Test accuracy: 0.7777777910232544\n"
          ]
        }
      ]
    },
    {
      "cell_type": "markdown",
      "metadata": {
        "nbpresent": {
          "id": "66140980-2aa4-457f-b1df-74c10c234cc2"
        },
        "id": "u-p-h6OInkMi"
      },
      "source": [
        "## [10 points] TSNE Plot\n",
        "t-Distributed Stochastic Neighbor Embedding (t-SNE) is a widely used technique for dimensionality reduction that is particularly well suited for the visualization of high-dimensional datasets. After training is complete, extract features from a specific deep layer of your choice, use t-SNE to reduce the dimensionality of your extracted features to 2 dimensions and plot the resulting 2D features."
      ]
    },
    {
      "cell_type": "code",
      "metadata": {
        "id": "Y_RQBaUknkMi",
        "colab": {
          "base_uri": "https://localhost:8080/",
          "height": 377
        },
        "outputId": "653ace19-cf2a-4748-a784-8b59c581315f"
      },
      "source": [
        "from sklearn.manifold import TSNE\n",
        "from matplotlib.colors import ListedColormap\n",
        "\n",
        "intermediate_layer_model = tf.keras.Model(inputs=sequential_1.input,\n",
        "                                        outputs=sequential_1.get_layer('dense').output)\n",
        "\n",
        "tsne_data_generator = test_datagen.flow_from_directory(DATASET_PATH,target_size=IMAGE_SIZE,\n",
        "                                                  batch_size=1,shuffle=False,seed=42,class_mode=\"binary\")\n",
        "\n",
        "predictions = intermediate_layer_model.predict(tsne_data_generator)\n",
        "labels = tsne_data_generator.labels\n",
        "\n",
        "x_transformed = TSNE().fit_transform(predictions)\n",
        "\n",
        "colors = []\n",
        "for label in labels:\n",
        "  if label == 0:\n",
        "    colors.append(\"covid\")\n",
        "  elif label==1:\n",
        "    colors.append(\"normal\")\n",
        "  elif label==2:\n",
        "    colors.append(\"pneumonia_bac\")\n",
        "  else:\n",
        "    colors.append(\"pneumonia_vir\")\n",
        "\n",
        "x_vals = [val[0] for val in x_transformed]\n",
        "y_vals = [val[1] for val in x_transformed]\n",
        "colours = ListedColormap(['r','b','g','y'])\n",
        "scatter=plt.scatter(x_vals,y_vals, c = labels, cmap=colours)\n",
        "plt.legend(handles=scatter.legend_elements()[0], labels = [\"covid\", \"normal\", \"pneumonia_bac\", \"pneumonia_vir\"], loc=\"upper right\")\n",
        "plt.show()"
      ],
      "execution_count": null,
      "outputs": [
        {
          "output_type": "stream",
          "name": "stdout",
          "text": [
            "Found 270 images belonging to 4 classes.\n"
          ]
        },
        {
          "output_type": "stream",
          "name": "stderr",
          "text": [
            "/usr/local/lib/python3.7/dist-packages/sklearn/manifold/_t_sne.py:783: FutureWarning: The default initialization in TSNE will change from 'random' to 'pca' in 1.2.\n",
            "  FutureWarning,\n",
            "/usr/local/lib/python3.7/dist-packages/sklearn/manifold/_t_sne.py:793: FutureWarning: The default learning rate in TSNE will change from 200.0 to 'auto' in 1.2.\n",
            "  FutureWarning,\n"
          ]
        },
        {
          "output_type": "display_data",
          "data": {
            "image/png": "[encoded data removed]",
            "text/plain": [
              "<Figure size 432x288 with 1 Axes>"
            ]
          },
          "metadata": {
            "needs_background": "light"
          }
        }
      ]
    },
    {
      "cell_type": "markdown",
      "metadata": {
        "id": "6kF2J4bsnkMj"
      },
      "source": [
        "<!-- ## Task 2: COVID-19 vs Normal vs Tertiary Pneumonia (Bacterial and Viral) -->"
      ]
    },
    {
      "cell_type": "markdown",
      "metadata": {
        "nbpresent": {
          "id": "66140980-2aa4-457f-b1df-74c10c234cc2"
        },
        "id": "d2AivGlvnkMk"
      },
      "source": [
        "<!-- #### Renew Training Batch and Validation Batch -->"
      ]
    },
    {
      "cell_type": "markdown",
      "metadata": {
        "nbpresent": {
          "id": "66140980-2aa4-457f-b1df-74c10c234cc2"
        },
        "id": "I5RSXAzknkMk"
      },
      "source": [
        "<!-- #### Renew Model -->"
      ]
    }
  ]
}