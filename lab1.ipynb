{
 "cells": [
  {
   "cell_type": "markdown",
   "metadata": {},
   "source": [
    "<font size=\"5\"> Import Numpy </font>\n",
    "<br>\n",
    "<br>\n",
    "To load the Numpy module, we need to at first import numpy and as a convention, we may give it a short name, np."
   ]
  },
  {
   "cell_type": "code",
   "execution_count": 2,
   "metadata": {},
   "outputs": [],
   "source": [
    "import numpy as np"
   ]
  },
  {
   "cell_type": "markdown",
   "metadata": {},
   "source": [
    "<br>\n",
    "<br>\n",
    "<br>\n",
    "<font size=\"5\"> Declaration of a Numpy array </font>"
   ]
  },
  {
   "cell_type": "code",
   "execution_count": 8,
   "metadata": {},
   "outputs": [],
   "source": [
    "a = [[1,2,3],[4,5,6]]\n",
    "np_a = np.array(a)"
   ]
  },
  {
   "cell_type": "code",
   "execution_count": 151,
   "metadata": {},
   "outputs": [
    {
     "name": "stdout",
     "output_type": "stream",
     "text": [
      "======================\n",
      "original array:\n",
      "[ 1  3 10  6  5  4  2  7  9  8]\n",
      "======================\n",
      "numpy array:\n",
      "[[1 2 3]\n",
      " [4 5 6]]\n",
      "======================\n",
      "shape of the array:\n",
      "(2, 3)\n",
      "======================\n",
      "datatype of the array:\n",
      "int64\n",
      "======================\n",
      "size of the array:\n",
      "6\n",
      "======================\n",
      "number of dimensions of the array:\n",
      "2\n",
      "======================\n",
      "transposed array:\n",
      "[[1 4]\n",
      " [2 5]\n",
      " [3 6]]\n"
     ]
    }
   ],
   "source": [
    "print(\"======================\")\n",
    "print(\"original array:\")\n",
    "print(a)\n",
    "print(\"======================\")\n",
    "print(\"numpy array:\")\n",
    "print(np_a)\n",
    "print(\"======================\")\n",
    "print(\"shape of the array:\")\n",
    "print(np_a.shape)\n",
    "print(\"======================\")\n",
    "print(\"datatype of the array:\")\n",
    "print(np_a.dtype)\n",
    "print(\"======================\")\n",
    "print(\"size of the array:\")\n",
    "print(np_a.size)\n",
    "print(\"======================\")\n",
    "print(\"number of dimensions of the array:\")\n",
    "print(np_a.ndim)\n",
    "print(\"======================\")\n",
    "print(\"transposed array:\")\n",
    "print(np_a.T)\n"
   ]
  },
  {
   "cell_type": "markdown",
   "metadata": {},
   "source": [
    "<br>\n",
    "<br>\n",
    "<br>\n",
    "<font size=\"5\"> Operation on Numpy array </font>"
   ]
  },
  {
   "cell_type": "code",
   "execution_count": 152,
   "metadata": {},
   "outputs": [
    {
     "name": "stdout",
     "output_type": "stream",
     "text": [
      "======================\n",
      "np_a:\n",
      "[[1 2 3]\n",
      " [4 5 6]]\n",
      "======================\n",
      "np_b:\n",
      "[[2 1 6]\n",
      " [2 2 9]]\n",
      "======================\n",
      "np_c:\n",
      "[3 2 1]\n"
     ]
    }
   ],
   "source": [
    "a = [[1,2,3],[4,5,6]]\n",
    "np_a = np.array(a)\n",
    "b = [[2,1,6],[2,2,9]]\n",
    "np_b = np.array(b)\n",
    "c = [3,2,1]\n",
    "np_c = np.array(c)\n",
    "print(\"======================\")\n",
    "print(\"np_a:\")\n",
    "print(np_a)\n",
    "print(\"======================\")\n",
    "print(\"np_b:\")\n",
    "print(np_b)\n",
    "print(\"======================\")\n",
    "print(\"np_c:\")\n",
    "print(np_c)\n"
   ]
  },
  {
   "cell_type": "code",
   "execution_count": 153,
   "metadata": {},
   "outputs": [
    {
     "name": "stdout",
     "output_type": "stream",
     "text": [
      "======================\n",
      "np_a + np_b:\n",
      "[[ 3  3  9]\n",
      " [ 6  7 15]]\n",
      "======================\n",
      "np_a + np_c (broadcasting):\n",
      "[[4 4 4]\n",
      " [7 7 7]]\n",
      "======================\n",
      "sum up np_a array:\n",
      "21\n",
      "======================\n",
      "sum up np_a array along the dimension 0:\n",
      "[5 7 9]\n",
      "======================\n",
      "sum up np_a array along the dimension 1:\n",
      "[ 6 15]\n"
     ]
    }
   ],
   "source": [
    "print(\"======================\")\n",
    "print(\"np_a + np_b:\")\n",
    "print(np_a + np_b)\n",
    "print(\"======================\")\n",
    "print(\"np_a + np_c (broadcasting):\")\n",
    "print(np_a + np_c)\n",
    "print(\"======================\")\n",
    "print(\"sum up np_a array:\")\n",
    "print(np.sum(np_a))\n",
    "print(\"======================\")\n",
    "print(\"sum up np_a array along the dimension 0:\")\n",
    "print(np.sum(np_a, axis=0))\n",
    "print(\"======================\")\n",
    "print(\"sum up np_a array along the dimension 1:\")\n",
    "print(np.sum(np_a, axis=1))\n"
   ]
  },
  {
   "cell_type": "code",
   "execution_count": 154,
   "metadata": {},
   "outputs": [
    {
     "name": "stdout",
     "output_type": "stream",
     "text": [
      "======================\n",
      "multiply np_a with np_c:\n",
      "[10 28]\n",
      "======================\n",
      "multiply np_a with a scalar 4:\n",
      "[[ 4  8 12]\n",
      " [16 20 24]]\n",
      "======================\n",
      "element-wise multiplication between np_a and np_b:\n",
      "[[ 2  2 18]\n",
      " [ 8 10 54]]\n",
      "======================\n",
      "take the exponential of each element in np_a:\n",
      "[[  2.71828183   7.3890561   20.08553692]\n",
      " [ 54.59815003 148.4131591  403.42879349]]\n",
      "equivalent to np.power(np.e, np_a):\n",
      "[[  2.71828183   7.3890561   20.08553692]\n",
      " [ 54.59815003 148.4131591  403.42879349]]\n"
     ]
    }
   ],
   "source": [
    "print(\"======================\")\n",
    "print(\"multiply np_a with np_c:\")\n",
    "print(np.matmul(np_a, np_c))\n",
    "print(\"======================\")\n",
    "print(\"multiply np_a with a scalar 4:\")\n",
    "print(np_a * 4)\n",
    "print(\"======================\")\n",
    "print(\"element-wise multiplication between np_a and np_b:\")\n",
    "print(np.multiply(np_a, np_b))\n",
    "print(\"======================\")\n",
    "print(\"take the exponential of each element in np_a:\")\n",
    "print(np.exp(np_a))\n",
    "print(\"equivalent to np.power(np.e, np_a):\")\n",
    "print(np.power(np.e, np_a))"
   ]
  },
  {
   "cell_type": "code",
   "execution_count": 155,
   "metadata": {},
   "outputs": [
    {
     "name": "stdout",
     "output_type": "stream",
     "text": [
      "======================\n",
      "minimun number of np_a:\n",
      "1\n",
      "======================\n",
      "minimun number of np_a along the dimension 0:\n",
      "[1 2 3]\n",
      "======================\n",
      "minimun number of np_a along the dimension 1:\n",
      "[1 4]\n"
     ]
    }
   ],
   "source": [
    "print(\"======================\")\n",
    "print(\"minimun number of np_a:\")\n",
    "print(np.min(np_a))\n",
    "print(\"======================\")\n",
    "print(\"minimun number of np_a along the dimension 0:\")\n",
    "print(np.min(np_a, axis=0))\n",
    "print(\"======================\")\n",
    "print(\"minimun number of np_a along the dimension 1:\")\n",
    "print(np.min(np_a, axis=1))\n"
   ]
  },
  {
   "cell_type": "code",
   "execution_count": 156,
   "metadata": {},
   "outputs": [
    {
     "name": "stdout",
     "output_type": "stream",
     "text": [
      "======================\n",
      "np_a:\n",
      "[[1 2 3]\n",
      " [4 5 6]]\n",
      "======================\n",
      "select few elements from np_a:\n",
      "[[5 6]]\n",
      "======================\n",
      "select a row from np_a:\n",
      "[4 5 6]\n",
      "======================\n",
      "select a column from np_a:\n",
      "[3 6]\n"
     ]
    }
   ],
   "source": [
    "print(\"======================\")\n",
    "print(\"np_a:\")\n",
    "print(np_a)\n",
    "print(\"======================\")\n",
    "print(\"select few elements from np_a:\")\n",
    "print(np_a[1:2,1:3])\n",
    "print(\"======================\")\n",
    "print(\"select a row from np_a:\")\n",
    "print(np_a[1,:])\n",
    "print(\"======================\")\n",
    "print(\"select a column from np_a:\")\n",
    "print(np_a[:,2])\n"
   ]
  },
  {
   "cell_type": "code",
   "execution_count": 157,
   "metadata": {},
   "outputs": [
    {
     "name": "stdout",
     "output_type": "stream",
     "text": [
      "======================\n",
      "multiply np_a with np_b transposed:\n",
      "[[22 33]\n",
      " [49 72]]\n",
      "======================\n",
      "multiply np_b with np_a transposed:\n",
      "[[22 49]\n",
      " [33 72]]\n",
      "======================\n",
      "multiply np_a transposed with np_b:\n",
      "[[10  9 42]\n",
      " [14 12 57]\n",
      " [18 15 72]]\n"
     ]
    }
   ],
   "source": [
    "print(\"======================\")\n",
    "print(\"multiply np_a with np_b transposed:\")\n",
    "print(np.matmul(np_a,np_b.T))\n",
    "print(\"======================\")\n",
    "print(\"multiply np_b with np_a transposed:\")\n",
    "print(np.matmul(np_b,np_a.T))\n",
    "print(\"======================\")\n",
    "print(\"multiply np_a transposed with np_b:\")\n",
    "print(np.matmul(np_a.T,np_b))\n"
   ]
  },
  {
   "cell_type": "code",
   "execution_count": 158,
   "metadata": {},
   "outputs": [
    {
     "name": "stdout",
     "output_type": "stream",
     "text": [
      "======================\n",
      "a:\n",
      "[[1 2 3]\n",
      " [3 2 1]]\n",
      "b:\n",
      "[[1 2 3]]\n",
      "a+b:\n",
      "[[2 4 6]\n",
      " [4 4 4]]\n",
      "======================\n",
      "a:\n",
      "[[1 2 3]\n",
      " [3 2 1]]\n",
      "b:\n",
      "[[1]\n",
      " [2]]\n",
      "a+b:\n",
      "[[2 3 4]\n",
      " [5 4 3]]\n",
      "======================\n",
      "a:\n",
      "[[1 2 3]]\n",
      "b:\n",
      "[[1]\n",
      " [2]]\n",
      "a+b:\n",
      "[[2 3 4]\n",
      " [3 4 5]]\n"
     ]
    }
   ],
   "source": [
    "print(\"======================\")\n",
    "a = np.array([[1,2,3],[3,2,1]])\n",
    "b = np.array([[1,2,3]])\n",
    "print(\"a:\")\n",
    "print(a)\n",
    "print(\"b:\")\n",
    "print(b)\n",
    "print(\"a+b:\")\n",
    "print(a+b)\n",
    "\n",
    "print(\"======================\")\n",
    "a = np.array([[1,2,3],[3,2,1]])\n",
    "b = np.array([[1],[2]])\n",
    "print(\"a:\")\n",
    "print(a)\n",
    "print(\"b:\")\n",
    "print(b)\n",
    "print(\"a+b:\")\n",
    "print(a+b)\n",
    "\n",
    "print(\"======================\")\n",
    "a = np.array([[1,2,3]])\n",
    "b = np.array([[1],[2]])\n",
    "print(\"a:\")\n",
    "print(a)\n",
    "print(\"b:\")\n",
    "print(b)\n",
    "print(\"a+b:\")\n",
    "print(a+b)\n"
   ]
  },
  {
   "cell_type": "markdown",
   "metadata": {},
   "source": [
    "<br>\n",
    "<br>\n",
    "<br>\n",
    "<font size=\"5\"> Iterating over an array </font>"
   ]
  },
  {
   "cell_type": "code",
   "execution_count": 159,
   "metadata": {},
   "outputs": [
    {
     "name": "stdout",
     "output_type": "stream",
     "text": [
      "a:\n",
      "[[1 2 3]\n",
      " [4 5 6]]\n"
     ]
    }
   ],
   "source": [
    "a = np.array([[1,2,3],[4,5,6]])\n",
    "print(\"a:\")\n",
    "print(a)"
   ]
  },
  {
   "cell_type": "code",
   "execution_count": 160,
   "metadata": {},
   "outputs": [
    {
     "name": "stdout",
     "output_type": "stream",
     "text": [
      "<numpy.flatiter object at 0x7fee3d5f1a00>\n",
      "[1, 2, 3, 4, 5, 6]\n",
      "1\n",
      "2\n",
      "3\n",
      "4\n",
      "5\n",
      "6\n"
     ]
    }
   ],
   "source": [
    "print(a.flat)\n",
    "print(list(a.flat))\n",
    "for e in a.flat:\n",
    "    print(e)"
   ]
  },
  {
   "cell_type": "code",
   "execution_count": 161,
   "metadata": {},
   "outputs": [
    {
     "name": "stdout",
     "output_type": "stream",
     "text": [
      "[1 2 3]\n",
      "[4 5 6]\n"
     ]
    }
   ],
   "source": [
    "for row in a:\n",
    "    print(row)\n",
    "    "
   ]
  },
  {
   "cell_type": "code",
   "execution_count": 162,
   "metadata": {},
   "outputs": [
    {
     "name": "stdout",
     "output_type": "stream",
     "text": [
      "1\n",
      "2\n",
      "3\n",
      "4\n",
      "5\n",
      "6\n"
     ]
    }
   ],
   "source": [
    "for row in a:\n",
    "    for column in row:\n",
    "        print(column)"
   ]
  },
  {
   "cell_type": "code",
   "execution_count": 163,
   "metadata": {},
   "outputs": [
    {
     "name": "stdout",
     "output_type": "stream",
     "text": [
      "2\n",
      "3\n"
     ]
    }
   ],
   "source": [
    "print(a.shape[0])\n",
    "print(a.shape[1])"
   ]
  },
  {
   "cell_type": "code",
   "execution_count": 164,
   "metadata": {},
   "outputs": [
    {
     "name": "stdout",
     "output_type": "stream",
     "text": [
      "1\n",
      "2\n",
      "3\n",
      "4\n",
      "5\n",
      "6\n"
     ]
    }
   ],
   "source": [
    "for i in range(a.shape[0]):\n",
    "    for j in range(a.shape[1]):\n",
    "        print(a[i,j])"
   ]
  },
  {
   "cell_type": "markdown",
   "metadata": {},
   "source": [
    "<br>\n",
    "<br>\n",
    "<br>\n",
    "<font size=\"5\"> Reshaping an array </font>"
   ]
  },
  {
   "cell_type": "code",
   "execution_count": 165,
   "metadata": {
    "scrolled": true
   },
   "outputs": [
    {
     "name": "stdout",
     "output_type": "stream",
     "text": [
      "======================\n",
      "matrix np_a:\n",
      "[[1 2 3 4]\n",
      " [3 4 5 6]\n",
      " [5 6 7 8]]\n",
      "======================\n",
      "np_a reshaped to (2,6):\n",
      "[[1 2 3 4 3 4]\n",
      " [5 6 5 6 7 8]]\n",
      "======================\n",
      "np_a resized to (5,5):\n",
      "[[1 2 3 4 3]\n",
      " [4 5 6 5 6]\n",
      " [7 8 0 0 0]\n",
      " [0 0 0 0 0]\n",
      " [0 0 0 0 0]]\n"
     ]
    }
   ],
   "source": [
    "np_a = np.array([[1,2,3,4],[3,4,5,6],[5,6,7,8]])\n",
    "print(\"======================\")\n",
    "print(\"matrix np_a:\")\n",
    "print(np_a)\n",
    "print(\"======================\")\n",
    "print(\"np_a reshaped to (2,6):\")\n",
    "print(np_a.reshape(2,6))\n",
    "# print(\"======================\")\n",
    "# print(\"np_a resized to (2,3):\")\n",
    "# np_a.resize(2,3)\n",
    "# print(np_a)\n",
    "print(\"======================\")\n",
    "print(\"np_a resized to (5,5):\")\n",
    "np_a.resize(5,5)\n",
    "print(np_a)\n"
   ]
  },
  {
   "cell_type": "markdown",
   "metadata": {},
   "source": [
    "<br>\n",
    "<br>\n",
    "<br>\n",
    "<font size=\"5\"> Linear Algebra </font>"
   ]
  },
  {
   "cell_type": "code",
   "execution_count": 166,
   "metadata": {},
   "outputs": [
    {
     "name": "stdout",
     "output_type": "stream",
     "text": [
      "======================\n",
      "np_a:\n",
      "[[1 2 3]\n",
      " [4 5 6]]\n",
      "======================\n",
      "np_b:\n",
      "[[2 1 6]\n",
      " [2 2 9]]\n",
      "======================\n",
      "np_a dot np_b:\n",
      "[[22 33]\n",
      " [49 72]]\n",
      "======================\n",
      "np_a matmul np_b:\n",
      "[[22 33]\n",
      " [49 72]]\n",
      "======================\n",
      "norm of np_a:\n",
      "9.539392014169456\n",
      "======================\n",
      "Given A:\n",
      "[[2 6]\n",
      " [3 3]]\n",
      "and b:\n",
      "[[1]\n",
      " [2]]\n",
      "the solver for Ax=b:\n",
      "[[ 0.75      ]\n",
      " [-0.08333333]]\n",
      "======================\n",
      "Inverse of a matrix A:\n",
      "[[-0.25        0.5       ]\n",
      " [ 0.25       -0.16666667]]\n",
      "======================\n",
      "SVD of A:\n",
      "U:\n",
      "[[-0.84162186 -0.54006726]\n",
      " [-0.54006726  0.84162186]]\n",
      "Sigma:\n",
      "[7.44316852 1.61221662]\n",
      "V:\n",
      "[[-0.44382248 -0.89611473]\n",
      " [ 0.89611473 -0.44382248]]\n"
     ]
    }
   ],
   "source": [
    "a = [[1,2,3],[4,5,6]]\n",
    "np_a = np.array(a)\n",
    "b = [[2,1,6],[2,2,9]]\n",
    "np_b = np.array(b)\n",
    "print(\"======================\")\n",
    "print(\"np_a:\")\n",
    "print(np_a)\n",
    "print(\"======================\")\n",
    "print(\"np_b:\")\n",
    "print(np_b)\n",
    "print(\"======================\")\n",
    "print(\"np_a dot np_b:\")\n",
    "print(np.dot(np_a,np_b.T))\n",
    "print(\"======================\")\n",
    "print(\"np_a matmul np_b:\")\n",
    "print(np.matmul(np_a,np_b.T))\n",
    "print(\"======================\")\n",
    "print(\"norm of np_a:\")\n",
    "print(np.linalg.norm(np_a))\n",
    "print(\"======================\")\n",
    "print(\"Given A:\")\n",
    "A = np.array([[2,6],[3,3]])\n",
    "print(A)\n",
    "b = np.array([[1],[2]])\n",
    "print(\"and b:\")\n",
    "print(b)\n",
    "print(\"the solver for Ax=b:\")\n",
    "print(np.linalg.solve(A,b))\n",
    "print(\"======================\")\n",
    "print(\"Inverse of a matrix A:\")\n",
    "print(np.linalg.inv(A))\n",
    "print(\"======================\")\n",
    "print(\"SVD of A:\")\n",
    "results = np.linalg.svd(A)\n",
    "print(\"U:\")\n",
    "print(results[0])\n",
    "print(\"Sigma:\")\n",
    "print(results[1])\n",
    "print(\"V:\")\n",
    "print(results[2])\n",
    "\n"
   ]
  },
  {
   "cell_type": "markdown",
   "metadata": {},
   "source": [
    "<br>\n",
    "<br>\n",
    "<br>\n",
    "<font size=\"5\"> Random </font>"
   ]
  },
  {
   "cell_type": "code",
   "execution_count": 167,
   "metadata": {},
   "outputs": [
    {
     "name": "stdout",
     "output_type": "stream",
     "text": [
      "[[4.17022005e-01 7.20324493e-01 1.14374817e-04 3.02332573e-01]\n",
      " [1.46755891e-01 9.23385948e-02 1.86260211e-01 3.45560727e-01]\n",
      " [3.96767474e-01 5.38816734e-01 4.19194514e-01 6.85219500e-01]]\n"
     ]
    }
   ],
   "source": [
    "np.random.seed(1)\n",
    "\n",
    "r1 = np.random.rand(3,4)\n",
    "print(r1)"
   ]
  },
  {
   "cell_type": "code",
   "execution_count": 168,
   "metadata": {},
   "outputs": [
    {
     "name": "stdout",
     "output_type": "stream",
     "text": [
      "[[ 0.3190391  -0.24937038  1.46210794 -2.06014071]\n",
      " [-0.3224172  -0.38405435  1.13376944 -1.09989127]\n",
      " [-0.17242821 -0.87785842  0.04221375  0.58281521]]\n"
     ]
    }
   ],
   "source": [
    "r2 = np.random.randn(3,4)\n",
    "print(r2)"
   ]
  },
  {
   "cell_type": "code",
   "execution_count": 169,
   "metadata": {},
   "outputs": [
    {
     "name": "stdout",
     "output_type": "stream",
     "text": [
      "[[5 9 2]\n",
      " [5 1 4]]\n"
     ]
    }
   ],
   "source": [
    "r3 = np.random.randint(1,10,(2,3))\n",
    "print(r3)"
   ]
  },
  {
   "cell_type": "code",
   "execution_count": 170,
   "metadata": {},
   "outputs": [
    {
     "name": "stdout",
     "output_type": "stream",
     "text": [
      "[ 7  6  9  4  2  5  1  8  3 10]\n"
     ]
    }
   ],
   "source": [
    "a = np.array([1,2,3,4,5,6,7,8,9,10])\n",
    "np.random.shuffle(a)\n",
    "print(a)"
   ]
  },
  {
   "cell_type": "markdown",
   "metadata": {},
   "source": [
    "<br>\n",
    "<br>\n",
    "<br>\n",
    "<font size=\"5\"> Matplotlib: 2D plots </font>"
   ]
  },
  {
   "cell_type": "code",
   "execution_count": 171,
   "metadata": {},
   "outputs": [
    {
     "data": {
      "image/png": "[encoded data removed]",
      "text/plain": [
       "<Figure size 432x288 with 1 Axes>"
      ]
     },
     "metadata": {},
     "output_type": "display_data"
    }
   ],
   "source": [
    "import numpy as np\n",
    "import matplotlib.pyplot as plt\n",
    "\n",
    "x = np.linspace(0,np.pi,100)\n",
    "y = np.sin(x)\n",
    "plt.plot(x,y)\n",
    "plt.show();\n"
   ]
  },
  {
   "cell_type": "code",
   "execution_count": 172,
   "metadata": {},
   "outputs": [
    {
     "data": {
      "image/png": "[encoded data removed]",
      "text/plain": [
       "<Figure size 720x720 with 4 Axes>"
      ]
     },
     "metadata": {},
     "output_type": "display_data"
    }
   ],
   "source": [
    "np.random.seed(1)\n",
    "data = np.random.randn(2, 100)\n",
    "\n",
    "fig, axs = plt.subplots(2, 2, figsize=(10, 10))\n",
    "axs[0, 0].hist(data[0])\n",
    "axs[1, 0].scatter(data[0], data[1])\n",
    "axs[0, 1].plot(data[0], data[1])\n",
    "axs[1, 1].hist2d(data[0], data[1])\n",
    "\n",
    "plt.show()\n"
   ]
  },
  {
   "cell_type": "code",
   "execution_count": null,
   "metadata": {},
   "outputs": [],
   "source": []
  }
 ],
 "metadata": {
  "kernelspec": {
   "display_name": "Python 3",
   "language": "python",
   "name": "python3"
  },
  "language_info": {
   "codemirror_mode": {
    "name": "ipython",
    "version": 3
   },
   "file_extension": ".py",
   "mimetype": "text/x-python",
   "name": "python",
   "nbconvert_exporter": "python",
   "pygments_lexer": "ipython3",
   "version": "3.6.5"
  }
 },
 "nbformat": 4,
 "nbformat_minor": 1
}
